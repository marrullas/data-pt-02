{
 "cells": [
  {
   "cell_type": "markdown",
   "metadata": {},
   "source": [
    "# Práctica Clase 5"
   ]
  },
  {
   "cell_type": "markdown",
   "metadata": {},
   "source": [
    "1) Implementar un juego, que consista en apilar números enteros del 1 al 20, de forma aleatoria, para lo cual debe usarse una estructura de Pila. \n",
    "Luego, el usuario debe elegir un número de veces en que se va a quitar elementos de la pila, los cuales, sumados entre sí, no deben superar el valor de 50.\n",
    "El usuario pierde si la suma supera ese valor. Si no lo supera, gana, pero su calificación será 10 menos el número elementos que falten quitar para todavía no superar 50.\n",
    "El programa debe informar si perdió, y si ganó, con qué calificación lo hizo.\n",
    "\n",
    "Consideraciones:<br>\n",
    "a. Se puede usar la función input() para obtener una entrada de teclado.<br>\n",
    "b. Se puede usar la el modulo random para obtener valores aleatorios."
   ]
  },
  {
   "attachments": {},
   "cell_type": "markdown",
   "metadata": {},
   "source": []
  },
  {
   "cell_type": "code",
   "execution_count": 4,
   "metadata": {},
   "outputs": [],
   "source": [
    "import random"
   ]
  },
  {
   "cell_type": "code",
   "execution_count": 5,
   "metadata": {},
   "outputs": [],
   "source": [
    "\n",
    "class Ruleta_Pila(object):\n",
    "    def __init__(self,numero:int):\n",
    "        self.__list = []\n",
    "        self.numero = numero\n",
    "    # Agregar un elemento a la Pila\n",
    "    def push(self, item):\n",
    "        self.__list.append(item)\n",
    "        return 'Ha ingresado el elemento: ',item\n",
    "    # Quitar un elemento de la Pila ... PRESTEN ATENCIÓN\n",
    "    def pop(self):\n",
    "        return 'Se eliminó el elemento: ',self.__list.pop()\n",
    "    # Obtener el elemento superior de la Pila\n",
    "    def peek(self):\n",
    "        if self.__list:\n",
    "            return 'El ultimo elemento de la lista es: ', self.__list[-1]\n",
    "        else:\n",
    "            return 'No hay nada en la lista'\n",
    "    # Determinar si la Pila está vacía\n",
    "    def is_empty(self):\n",
    "        if self.__list == []:\n",
    "            return 'La lista está vacía'\n",
    "        else:\n",
    "            return 'La lista tiene los siguientes elementos', self.__list\n",
    "    # Devuelve el número de elementos de la lista:\n",
    "    def size(self):\n",
    "        longitud = len(self.__list)\n",
    "        return {f'La lista contiene: {longitud} elementos'}\n",
    "    #cargar los 20 numeros aleatorios\n",
    "    def cargar(self):\n",
    "        i=0\n",
    "        while 1 < 20:\n",
    "            i += 1\n",
    "            self.push(random.randint(0,20))\n",
    "    #sacar un numero X de valores de la pila\n",
    "    def sacar(self):\n",
    "        i=0\n",
    "        resultado = 0\n",
    "        numeros_salida = []\n",
    "        while 1 < self.numero:\n",
    "            i += 1\n",
    "            #numeros_salida.append(self.peek())\n",
    "            resultado += self.peek()\n",
    "            self.pop()\n",
    "        return {f'La suma de los valores que saco de la pila es {resultado}'}"
   ]
  },
  {
   "cell_type": "code",
   "execution_count": 6,
   "metadata": {},
   "outputs": [
    {
     "ename": "NameError",
     "evalue": "name 'Ruleta_pila' is not defined",
     "output_type": "error",
     "traceback": [
      "\u001b[0;31m---------------------------------------------------------------------------\u001b[0m",
      "\u001b[0;31mNameError\u001b[0m                                 Traceback (most recent call last)",
      "Cell \u001b[0;32mIn[6], line 1\u001b[0m\n\u001b[0;32m----> 1\u001b[0m jugar \u001b[39m=\u001b[39m Ruleta_pila(\u001b[39m4\u001b[39m)\n",
      "\u001b[0;31mNameError\u001b[0m: name 'Ruleta_pila' is not defined"
     ]
    }
   ],
   "source": [
    "jugar = Ruleta_pila(4)"
   ]
  },
  {
   "cell_type": "markdown",
   "metadata": {},
   "source": [
    "2) Implementar un juego donde constas de 2 jarras, de capacidad 5 y 3 litros respectivamente, y debes colocar 4 litros en la jarra de 5L.\n",
    "Las opciones posibles son:\n",
    "* Llenar la jarra de 3 litros\n",
    "* Llenar la jarra de 5 litros\n",
    "* Vaciar la jarra de 3 litros\n",
    "* Vaciar la jarra de 5 litros\n",
    "* Verter el contenido de la jarra de 3 litros en la de 5 litros\n",
    "* Verter el contenido de la jarra de 5 litros en la de 3 litros"
   ]
  }
 ],
 "metadata": {
  "kernelspec": {
   "display_name": "henry",
   "language": "python",
   "name": "python3"
  },
  "language_info": {
   "codemirror_mode": {
    "name": "ipython",
    "version": 3
   },
   "file_extension": ".py",
   "mimetype": "text/x-python",
   "name": "python",
   "nbconvert_exporter": "python",
   "pygments_lexer": "ipython3",
   "version": "3.11.0"
  },
  "vscode": {
   "interpreter": {
    "hash": "018614256b6fc2715af93d56b95ae4f515df1b8bf2611b0ec223e6e8158bd198"
   }
  }
 },
 "nbformat": 4,
 "nbformat_minor": 4
}
