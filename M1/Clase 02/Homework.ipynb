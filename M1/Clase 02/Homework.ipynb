{
 "cells": [
  {
   "cell_type": "markdown",
   "metadata": {},
   "source": [
    "# Práctica Clase 2"
   ]
  },
  {
   "cell_type": "markdown",
   "metadata": {},
   "source": [
    "1) Abrir el archivo \"Emisiones_CO2.csv\" y cargar sus datos en un diccionario."
   ]
  },
  {
   "cell_type": "code",
   "execution_count": 48,
   "metadata": {},
   "outputs": [],
   "source": [
    "import os\n",
    "archivo = open('Emisiones_CO2.csv', 'r', encoding='Windows 1252')"
   ]
  },
  {
   "cell_type": "code",
   "execution_count": 89,
   "metadata": {},
   "outputs": [],
   "source": [
    "import os\n",
    "archivo = open('Emisiones_CO2.csv', 'r', encoding='Windows 1252')\n",
    "\n",
    "separador = '|'\n",
    "dicc_emisiones = []\n",
    "contador = 0\n",
    "next(archivo) #saltamos primera linea para no cargar los titulos\n",
    "for linea in archivo:    \n",
    "    linea = linea.strip('\\n') #quitar los saltos de linea\n",
    "    col = linea.split(separador)\n",
    "    #print(col)\n",
    "    dicc_emisiones.append({ #se adicionala los datos  de cada linea al diccionario\n",
    "        'cod_pais' : col[0],\n",
    "        'nom_pais' : col[1],\n",
    "        'region' : col[2],\n",
    "        'anio' : int(col[3]) if col[3] != '' else 0,\n",
    "        'co2' : float(col[4].replace('.', '').replace(\",\", \".\") if col[4] != '' else 0),\n",
    "        'co2_percapita' : float(col[5].replace(\",\", \".\") if col[5] != '' else 0),\n",
    "    })\n",
    "\n",
    "    \"\"\"if contador == 9:\n",
    "        break\n",
    "    contador+=1\"\"\""
   ]
  },
  {
   "cell_type": "code",
   "execution_count": 69,
   "metadata": {},
   "outputs": [
    {
     "name": "stdout",
     "output_type": "stream",
     "text": [
      "[{'cod_pais': 'ABW', 'nom_pais': 'Aruba', 'region': 'América Latina y Caribe', 'anio': 1960, 'co2': 0.0, 'co2_percapita': 0.0}, {'cod_pais': 'ABW', 'nom_pais': 'Aruba', 'region': 'América Latina y Caribe', 'anio': 1961, 'co2': 0.0, 'co2_percapita': 0.0}, {'cod_pais': 'ABW', 'nom_pais': 'Aruba', 'region': 'América Latina y Caribe', 'anio': 1962, 'co2': 0.0, 'co2_percapita': 0.0}, {'cod_pais': 'ABW', 'nom_pais': 'Aruba', 'region': 'América Latina y Caribe', 'anio': 1963, 'co2': 0.0, 'co2_percapita': 0.0}, {'cod_pais': 'ABW', 'nom_pais': 'Aruba', 'region': 'América Latina y Caribe', 'anio': 1964, 'co2': 0.0, 'co2_percapita': 0.0}, {'cod_pais': 'ABW', 'nom_pais': 'Aruba', 'region': 'América Latina y Caribe', 'anio': 1965, 'co2': 0.0, 'co2_percapita': 0.0}, {'cod_pais': 'ABW', 'nom_pais': 'Aruba', 'region': 'América Latina y Caribe', 'anio': 1966, 'co2': 0.0, 'co2_percapita': 0.0}, {'cod_pais': 'ABW', 'nom_pais': 'Aruba', 'region': 'América Latina y Caribe', 'anio': 1967, 'co2': 0.0, 'co2_percapita': 0.0}, {'cod_pais': 'ABW', 'nom_pais': 'Aruba', 'region': 'América Latina y Caribe', 'anio': 1968, 'co2': 0.0, 'co2_percapita': 0.0}, {'cod_pais': 'ABW', 'nom_pais': 'Aruba', 'region': 'América Latina y Caribe', 'anio': 1969, 'co2': 0.0, 'co2_percapita': 0.0}]\n"
     ]
    }
   ],
   "source": [
    "print(dicc_emisiones)"
   ]
  },
  {
   "attachments": {},
   "cell_type": "markdown",
   "metadata": {},
   "source": [
    "#A"
   ]
  },
  {
   "cell_type": "code",
   "execution_count": 66,
   "metadata": {},
   "outputs": [
    {
     "name": "stdout",
     "output_type": "stream",
     "text": [
      " El numero de variables es: 6\n"
     ]
    }
   ],
   "source": [
    "print(f' El numero de variables es: {len(dicc_emisiones[0].keys())}')"
   ]
  },
  {
   "attachments": {},
   "cell_type": "markdown",
   "metadata": {},
   "source": [
    "##C"
   ]
  },
  {
   "cell_type": "code",
   "execution_count": 70,
   "metadata": {},
   "outputs": [
    {
     "name": "stdout",
     "output_type": "stream",
     "text": [
      "<class 'str'>\n",
      "<class 'str'>\n",
      "<class 'str'>\n",
      "<class 'int'>\n",
      "<class 'float'>\n",
      "<class 'float'>\n"
     ]
    }
   ],
   "source": [
    "for key in dicc_emisiones[0].values():\n",
    "    print(type(key))"
   ]
  },
  {
   "attachments": {},
   "cell_type": "markdown",
   "metadata": {},
   "source": [
    "##D"
   ]
  },
  {
   "cell_type": "code",
   "execution_count": 80,
   "metadata": {},
   "outputs": [
    {
     "name": "stdout",
     "output_type": "stream",
     "text": [
      "Existen 2098 datos vacios en la linea\n"
     ]
    }
   ],
   "source": [
    "archivo = open('Emisiones_CO2.csv', 'r', encoding='Windows 1252')\n",
    "\n",
    "separador = '|'\n",
    "contador_vacios = 0\n",
    "next(archivo) #saltamos primera linea para no cargar los titulos\n",
    "for linea in archivo:    \n",
    "    linea = linea.strip('\\n') #quitar los saltos de linea\n",
    "    col = linea.split(separador)\n",
    "    if '' in col:\n",
    "        contador_vacios+=1\n",
    "        \n",
    "    #print(col)\n",
    "print(f'Existen {contador_vacios} datos vacios en la linea')\n"
   ]
  },
  {
   "attachments": {},
   "cell_type": "markdown",
   "metadata": {},
   "source": [
    "##E"
   ]
  },
  {
   "cell_type": "code",
   "execution_count": 90,
   "metadata": {},
   "outputs": [
    {
     "name": "stdout",
     "output_type": "stream",
     "text": [
      "890622397.0730013\n"
     ]
    }
   ],
   "source": [
    "acumulador_co2 = 0\n",
    "for linea in dicc_emisiones:\n",
    "    acumulador_co2 = acumulador_co2 + linea['co2']\n",
    "print(acumulador_co2)    "
   ]
  },
  {
   "cell_type": "code",
   "execution_count": 61,
   "metadata": {},
   "outputs": [
    {
     "data": {
      "text/plain": [
       "10"
      ]
     },
     "execution_count": 61,
     "metadata": {},
     "output_type": "execute_result"
    }
   ],
   "source": [
    "len(dicc_emisiones)"
   ]
  },
  {
   "cell_type": "code",
   "execution_count": 17,
   "metadata": {},
   "outputs": [
    {
     "ename": "IndexError",
     "evalue": "list index out of range",
     "output_type": "error",
     "traceback": [
      "\u001b[0;31m---------------------------------------------------------------------------\u001b[0m",
      "\u001b[0;31mIndexError\u001b[0m                                Traceback (most recent call last)",
      "Cell \u001b[0;32mIn[17], line 3\u001b[0m\n\u001b[1;32m      1\u001b[0m contador \u001b[39m=\u001b[39m \u001b[39m1\u001b[39m\n\u001b[1;32m      2\u001b[0m \u001b[39mwhile\u001b[39;00m contador \u001b[39m<\u001b[39m\u001b[39m=\u001b[39m \u001b[39m9\u001b[39m:\n\u001b[0;32m----> 3\u001b[0m     \u001b[39mprint\u001b[39m(dicc_emisiones[\u001b[39m0\u001b[39;49m])\n\u001b[1;32m      4\u001b[0m     contador \u001b[39m+\u001b[39m\u001b[39m=\u001b[39m\u001b[39m1\u001b[39m\n",
      "\u001b[0;31mIndexError\u001b[0m: list index out of range"
     ]
    }
   ],
   "source": [
    "contador = 1\n",
    "while contador <= 9:\n",
    "    print(dicc_emisiones[0])\n",
    "    contador +=1"
   ]
  },
  {
   "cell_type": "code",
   "execution_count": 16,
   "metadata": {},
   "outputs": [
    {
     "ename": "AttributeError",
     "evalue": "'list' object has no attribute 'keys'",
     "output_type": "error",
     "traceback": [
      "\u001b[0;31m---------------------------------------------------------------------------\u001b[0m",
      "\u001b[0;31mAttributeError\u001b[0m                            Traceback (most recent call last)",
      "Cell \u001b[0;32mIn[16], line 1\u001b[0m\n\u001b[0;32m----> 1\u001b[0m dicc_emisiones\u001b[39m.\u001b[39;49mkeys()\n",
      "\u001b[0;31mAttributeError\u001b[0m: 'list' object has no attribute 'keys'"
     ]
    }
   ],
   "source": [
    "dicc_emisiones.keys()"
   ]
  },
  {
   "cell_type": "code",
   "execution_count": 19,
   "metadata": {},
   "outputs": [],
   "source": [
    "dicc_emisiones = {  'cod_pais' : [],\n",
    "                    'nom_pais' : [],\n",
    "                    'region' : [],\n",
    "                    'anio' : [],\n",
    "                    'co2' : [],\n",
    "                    'co2_percapita' : []}"
   ]
  },
  {
   "cell_type": "markdown",
   "metadata": {},
   "source": [
    "2) a) ¿Cuántas variables hay? <br>\n",
    "b) ¿Qué tipos de datos usar para cada una? <br>\n",
    "c) ¿Qué tipo de variables son? <br>\n",
    "d) ¿Hay valores faltantes? <br>\n",
    "e) ¿Cuál es el total de emisiones de CO2 para 'América Latina y Caribe' en el año 2010?"
   ]
  }
 ],
 "metadata": {
  "interpreter": {
   "hash": "c85384e4cb51c8b72350f3a8712cc8351fdc3955e32a27f9b60c6242ab125f01"
  },
  "kernelspec": {
   "display_name": "Python 3.9.7 ('henry')",
   "language": "python",
   "name": "python3"
  },
  "language_info": {
   "codemirror_mode": {
    "name": "ipython",
    "version": 3
   },
   "file_extension": ".py",
   "mimetype": "text/x-python",
   "name": "python",
   "nbconvert_exporter": "python",
   "pygments_lexer": "ipython3",
   "version": "3.11.0"
  },
  "orig_nbformat": 4
 },
 "nbformat": 4,
 "nbformat_minor": 2
}
